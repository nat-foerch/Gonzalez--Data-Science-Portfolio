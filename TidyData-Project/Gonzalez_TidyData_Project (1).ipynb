{
  "nbformat": 4,
  "nbformat_minor": 0,
  "metadata": {
    "colab": {
      "provenance": []
    },
    "kernelspec": {
      "name": "python3",
      "display_name": "Python 3"
    },
    "language_info": {
      "name": "python"
    }
  },
  "cells": [
    {
      "cell_type": "code",
      "execution_count": null,
      "metadata": {
        "id": "-ofgCyxHzKen"
      },
      "outputs": [],
      "source": [
        "### Natalie Gonzalez\n",
        "### Portfolio Update 2\n",
        "### March 18th, 2025"
      ]
    },
    {
      "cell_type": "markdown",
      "source": [
        "## Importing and Data Cleaning"
      ],
      "metadata": {
        "id": "sgfV8I280cNN"
      }
    },
    {
      "cell_type": "markdown",
      "source": [
        "### Importing Libraries and Federal Data"
      ],
      "metadata": {
        "id": "KHcVHCNn0m5T"
      }
    },
    {
      "cell_type": "code",
      "source": [
        "import pandas as pd\n",
        "import numpy as np\n",
        "import matplotlib.pyplot as plt\n",
        "import statsmodels.api as sm\n",
        "from statsmodels.graphics.gofplots import qqplot\n",
        "from statsmodels.stats.outliers_influence import variance_inflation_factor\n",
        "from sklearn.linear_model import LinearRegression\n",
        "\n",
        "df = pd.read_csv(\"fed_rd_year&gdp (1).csv\")   # Assigning csv to variable.\n",
        "print(df.head())  # Seeing first five rows of the dataset."
      ],
      "metadata": {
        "colab": {
          "base_uri": "https://localhost:8080/",
          "height": 0
        },
        "id": "xNc3z1ceziLL",
        "outputId": "b8f2783a-a1dd-4cf6-e31b-bed3e190d64b"
      },
      "execution_count": 87,
      "outputs": [
        {
          "output_type": "stream",
          "name": "stdout",
          "text": [
            "  department  1976_gdp1790000000000.0  1977_gdp2028000000000.0  \\\n",
            "0        DHS                      NaN                      NaN   \n",
            "1        DOC             8.190000e+08             8.370000e+08   \n",
            "2        DOD             3.569600e+10             3.796700e+10   \n",
            "3        DOE             1.088200e+10             1.374100e+10   \n",
            "4        DOT             1.142000e+09             1.095000e+09   \n",
            "\n",
            "   1978_gdp2278000000000.0  1979_gdp2570000000000.0  1980_gdp2797000000000.0  \\\n",
            "0                      NaN                      NaN                      NaN   \n",
            "1             8.710000e+08             9.520000e+08             9.450000e+08   \n",
            "2             3.702200e+10             3.717400e+10             3.700500e+10   \n",
            "3             1.566300e+10             1.561200e+10             1.522600e+10   \n",
            "4             1.156000e+09             1.004000e+09             1.048000e+09   \n",
            "\n",
            "   1981_gdp3138000000000.0  1982_gdp3314000000000.0  1983_gdp3541000000000.0  \\\n",
            "0                      NaN                      NaN                      NaN   \n",
            "1             8.290000e+08             6.930000e+08             7.000000e+08   \n",
            "2             4.173700e+10             4.689300e+10             5.100800e+10   \n",
            "3             1.479800e+10             1.216000e+10             1.112900e+10   \n",
            "4             9.780000e+08             7.020000e+08             8.000000e+08   \n",
            "\n",
            "   1984_gdp3953000000000.0  ...  2008_gdp14752000000000.0  \\\n",
            "0                      NaN  ...                1155000000   \n",
            "1             7.550000e+08  ...                1379000000   \n",
            "2             5.813900e+10  ...               94247000000   \n",
            "3             1.173100e+10  ...               11343000000   \n",
            "4             1.018000e+09  ...                1016000000   \n",
            "\n",
            "   2009_gdp14415000000000.0  2010_gdp14799000000000.0  \\\n",
            "0                1258000000                1009000000   \n",
            "1                1594000000                1521000000   \n",
            "2               93527000000               94325000000   \n",
            "3               11823000000               12329000000   \n",
            "4                1062000000                1221000000   \n",
            "\n",
            "   2011_gdp15379000000000.0  2012_gdp16027000000000.0  \\\n",
            "0                 848000000                 527000000   \n",
            "1                1357000000                1373000000   \n",
            "2               88220000000               81543000000   \n",
            "3               11902000000               11839000000   \n",
            "4                1064000000                1007000000   \n",
            "\n",
            "   2013_gdp16516000000000.0  2014_gdp17244000000000.0  \\\n",
            "0                 737000000                1092000000   \n",
            "1                1397000000                1641000000   \n",
            "2               70583000000               70341000000   \n",
            "3               11528000000               12686000000   \n",
            "4                 881000000                 843000000   \n",
            "\n",
            "   2015_gdp17983000000000.0  2016_gdp18470000000000.0  \\\n",
            "0                 960000000                 602000000   \n",
            "1                1596000000                1730000000   \n",
            "2               69522000000               75213000000   \n",
            "3               15033000000               15504000000   \n",
            "4                 926000000                 910000000   \n",
            "\n",
            "   2017_gdp19177000000000.0  \n",
            "0                 735000000  \n",
            "1                1824000000  \n",
            "2               51862000000  \n",
            "3               15032000000  \n",
            "4                 936000000  \n",
            "\n",
            "[5 rows x 43 columns]\n"
          ]
        }
      ]
    },
    {
      "cell_type": "markdown",
      "source": [
        "## Data Cleaning"
      ],
      "metadata": {
        "id": "yIjhC7e1KqXZ"
      }
    },
    {
      "cell_type": "markdown",
      "source": [
        "### Melting"
      ],
      "metadata": {
        "id": "uYY_qd-x09-K"
      }
    },
    {
      "cell_type": "markdown",
      "source": [
        "Melting is useful to seperate each variable into its own column. The \"long\" formate is easier to observe than the \"wide\" format."
      ],
      "metadata": {
        "id": "wI3BAqT4I6k9"
      }
    },
    {
      "cell_type": "code",
      "source": [
        "df_federal_melted = pd.melt(df, id_vars = [\"department\"],\n",
        "                            var_name= \"Year_GDP\", value_name= \"Budget\")  # Do not include value_vars because all columns need to be melted.\n",
        "print(df_federal_melted) # Shows Year_GDP combined colunm and Budget column."
      ],
      "metadata": {
        "colab": {
          "base_uri": "https://localhost:8080/",
          "height": 0
        },
        "id": "Ra4zjYJG1lM8",
        "outputId": "67d394c6-66bf-41b2-dcab-606c28585685"
      },
      "execution_count": 88,
      "outputs": [
        {
          "output_type": "stream",
          "name": "stdout",
          "text": [
            "    department                  Year_GDP        Budget\n",
            "0          DHS   1976_gdp1790000000000.0           NaN\n",
            "1          DOC   1976_gdp1790000000000.0  8.190000e+08\n",
            "2          DOD   1976_gdp1790000000000.0  3.569600e+10\n",
            "3          DOE   1976_gdp1790000000000.0  1.088200e+10\n",
            "4          DOT   1976_gdp1790000000000.0  1.142000e+09\n",
            "..         ...                       ...           ...\n",
            "583        NIH  2017_gdp19177000000000.0  3.305200e+10\n",
            "584        NSF  2017_gdp19177000000000.0  6.040000e+09\n",
            "585      Other  2017_gdp19177000000000.0  1.553000e+09\n",
            "586       USDA  2017_gdp19177000000000.0  2.625000e+09\n",
            "587         VA  2017_gdp19177000000000.0  1.367000e+09\n",
            "\n",
            "[588 rows x 3 columns]\n"
          ]
        }
      ]
    },
    {
      "cell_type": "markdown",
      "source": [
        "### Splitting"
      ],
      "metadata": {
        "id": "N7cIicBjKxCd"
      }
    },
    {
      "cell_type": "markdown",
      "source": [
        "We split our data because there are two variables in the same column. Splitting helps us to observe individual variables by giving each value their own cell."
      ],
      "metadata": {
        "id": "NMZQlOPOJ7xO"
      }
    },
    {
      "cell_type": "code",
      "source": [
        "df_federal_melted[[\"Year\", \"GDP\",]] = df_federal_melted[\"Year_GDP\"].str.split(\"_gdp\", expand = True)  # Splitting the \"Year_GDP\" column.\n",
        "\n",
        "print(df_federal_melted)  # Returns \"Year\" and \"GDP\" as two seperate columns. Still has combined \"Year_GDP\" column."
      ],
      "metadata": {
        "colab": {
          "base_uri": "https://localhost:8080/",
          "height": 0
        },
        "id": "_IbNQFbpyZrB",
        "outputId": "dda64c3b-75ef-4b7d-8f6b-22222f4bdde8"
      },
      "execution_count": 89,
      "outputs": [
        {
          "output_type": "stream",
          "name": "stdout",
          "text": [
            "    department                  Year_GDP        Budget  Year               GDP\n",
            "0          DHS   1976_gdp1790000000000.0           NaN  1976   1790000000000.0\n",
            "1          DOC   1976_gdp1790000000000.0  8.190000e+08  1976   1790000000000.0\n",
            "2          DOD   1976_gdp1790000000000.0  3.569600e+10  1976   1790000000000.0\n",
            "3          DOE   1976_gdp1790000000000.0  1.088200e+10  1976   1790000000000.0\n",
            "4          DOT   1976_gdp1790000000000.0  1.142000e+09  1976   1790000000000.0\n",
            "..         ...                       ...           ...   ...               ...\n",
            "583        NIH  2017_gdp19177000000000.0  3.305200e+10  2017  19177000000000.0\n",
            "584        NSF  2017_gdp19177000000000.0  6.040000e+09  2017  19177000000000.0\n",
            "585      Other  2017_gdp19177000000000.0  1.553000e+09  2017  19177000000000.0\n",
            "586       USDA  2017_gdp19177000000000.0  2.625000e+09  2017  19177000000000.0\n",
            "587         VA  2017_gdp19177000000000.0  1.367000e+09  2017  19177000000000.0\n",
            "\n",
            "[588 rows x 5 columns]\n"
          ]
        }
      ]
    },
    {
      "cell_type": "markdown",
      "source": [
        "### Cleaning"
      ],
      "metadata": {
        "id": "xF_wPWtKK1Ro"
      }
    },
    {
      "cell_type": "markdown",
      "source": [
        "Dropping combined columns is helpful because they are no longer useful for observation and analysis. We can do this by using the df.drop function."
      ],
      "metadata": {
        "id": "CIej3bzELV1P"
      }
    },
    {
      "cell_type": "code",
      "source": [
        "df_federal_melted.drop(\"Year_GDP\", axis=1, inplace=True)  # Dropping combined column. This column is no longer needed since we now have \"Year\" and \"GDP\".\n",
        "\n",
        "print(df_federal_melted)"
      ],
      "metadata": {
        "colab": {
          "base_uri": "https://localhost:8080/",
          "height": 0
        },
        "id": "9exgwJR56pBr",
        "outputId": "7a911d32-1ca9-4a25-bb59-a6a85a144ccd"
      },
      "execution_count": 90,
      "outputs": [
        {
          "output_type": "stream",
          "name": "stdout",
          "text": [
            "    department        Budget  Year               GDP\n",
            "0          DHS           NaN  1976   1790000000000.0\n",
            "1          DOC  8.190000e+08  1976   1790000000000.0\n",
            "2          DOD  3.569600e+10  1976   1790000000000.0\n",
            "3          DOE  1.088200e+10  1976   1790000000000.0\n",
            "4          DOT  1.142000e+09  1976   1790000000000.0\n",
            "..         ...           ...   ...               ...\n",
            "583        NIH  3.305200e+10  2017  19177000000000.0\n",
            "584        NSF  6.040000e+09  2017  19177000000000.0\n",
            "585      Other  1.553000e+09  2017  19177000000000.0\n",
            "586       USDA  2.625000e+09  2017  19177000000000.0\n",
            "587         VA  1.367000e+09  2017  19177000000000.0\n",
            "\n",
            "[588 rows x 4 columns]\n"
          ]
        }
      ]
    },
    {
      "cell_type": "markdown",
      "source": [
        "### Numerical Consistency"
      ],
      "metadata": {
        "id": "XKytL-JmK6d7"
      }
    },
    {
      "cell_type": "markdown",
      "source": [
        "Large numbers should be consistent in their notation. We do this by using the .replace function."
      ],
      "metadata": {
        "id": "lRxsKVpvL4Kk"
      }
    },
    {
      "cell_type": "code",
      "source": [
        "df_federal_melted[\"GDP\"] = df_federal_melted[\"GDP\"].replace(',', '').astype(float)   # \"GDP\" into scientific notation. Makes is consistent with \"Budget\" and easier to understand number.\n",
        "\n",
        "\n",
        "print(df_federal_melted)\n",
        "\n",
        "df_federal_melted.head(10)"
      ],
      "metadata": {
        "colab": {
          "base_uri": "https://localhost:8080/",
          "height": 606
        },
        "id": "jbLFmgHADHUT",
        "outputId": "a5f8eec7-3c98-4474-ffc2-2cf80902fa61"
      },
      "execution_count": 91,
      "outputs": [
        {
          "output_type": "stream",
          "name": "stdout",
          "text": [
            "    department        Budget  Year           GDP\n",
            "0          DHS           NaN  1976  1.790000e+12\n",
            "1          DOC  8.190000e+08  1976  1.790000e+12\n",
            "2          DOD  3.569600e+10  1976  1.790000e+12\n",
            "3          DOE  1.088200e+10  1976  1.790000e+12\n",
            "4          DOT  1.142000e+09  1976  1.790000e+12\n",
            "..         ...           ...   ...           ...\n",
            "583        NIH  3.305200e+10  2017  1.917700e+13\n",
            "584        NSF  6.040000e+09  2017  1.917700e+13\n",
            "585      Other  1.553000e+09  2017  1.917700e+13\n",
            "586       USDA  2.625000e+09  2017  1.917700e+13\n",
            "587         VA  1.367000e+09  2017  1.917700e+13\n",
            "\n",
            "[588 rows x 4 columns]\n"
          ]
        },
        {
          "output_type": "execute_result",
          "data": {
            "text/plain": [
              "  department        Budget  Year           GDP\n",
              "0        DHS           NaN  1976  1.790000e+12\n",
              "1        DOC  8.190000e+08  1976  1.790000e+12\n",
              "2        DOD  3.569600e+10  1976  1.790000e+12\n",
              "3        DOE  1.088200e+10  1976  1.790000e+12\n",
              "4        DOT  1.142000e+09  1976  1.790000e+12\n",
              "5        EPA  9.680000e+08  1976  1.790000e+12\n",
              "6        HHS  9.226000e+09  1976  1.790000e+12\n",
              "7   Interior  1.152000e+09  1976  1.790000e+12\n",
              "8       NASA  1.251300e+10  1976  1.790000e+12\n",
              "9        NIH  8.025000e+09  1976  1.790000e+12"
            ],
            "text/html": [
              "\n",
              "  <div id=\"df-3c22e926-6d94-437d-88ee-d77c04afbe3a\" class=\"colab-df-container\">\n",
              "    <div>\n",
              "<style scoped>\n",
              "    .dataframe tbody tr th:only-of-type {\n",
              "        vertical-align: middle;\n",
              "    }\n",
              "\n",
              "    .dataframe tbody tr th {\n",
              "        vertical-align: top;\n",
              "    }\n",
              "\n",
              "    .dataframe thead th {\n",
              "        text-align: right;\n",
              "    }\n",
              "</style>\n",
              "<table border=\"1\" class=\"dataframe\">\n",
              "  <thead>\n",
              "    <tr style=\"text-align: right;\">\n",
              "      <th></th>\n",
              "      <th>department</th>\n",
              "      <th>Budget</th>\n",
              "      <th>Year</th>\n",
              "      <th>GDP</th>\n",
              "    </tr>\n",
              "  </thead>\n",
              "  <tbody>\n",
              "    <tr>\n",
              "      <th>0</th>\n",
              "      <td>DHS</td>\n",
              "      <td>NaN</td>\n",
              "      <td>1976</td>\n",
              "      <td>1.790000e+12</td>\n",
              "    </tr>\n",
              "    <tr>\n",
              "      <th>1</th>\n",
              "      <td>DOC</td>\n",
              "      <td>8.190000e+08</td>\n",
              "      <td>1976</td>\n",
              "      <td>1.790000e+12</td>\n",
              "    </tr>\n",
              "    <tr>\n",
              "      <th>2</th>\n",
              "      <td>DOD</td>\n",
              "      <td>3.569600e+10</td>\n",
              "      <td>1976</td>\n",
              "      <td>1.790000e+12</td>\n",
              "    </tr>\n",
              "    <tr>\n",
              "      <th>3</th>\n",
              "      <td>DOE</td>\n",
              "      <td>1.088200e+10</td>\n",
              "      <td>1976</td>\n",
              "      <td>1.790000e+12</td>\n",
              "    </tr>\n",
              "    <tr>\n",
              "      <th>4</th>\n",
              "      <td>DOT</td>\n",
              "      <td>1.142000e+09</td>\n",
              "      <td>1976</td>\n",
              "      <td>1.790000e+12</td>\n",
              "    </tr>\n",
              "    <tr>\n",
              "      <th>5</th>\n",
              "      <td>EPA</td>\n",
              "      <td>9.680000e+08</td>\n",
              "      <td>1976</td>\n",
              "      <td>1.790000e+12</td>\n",
              "    </tr>\n",
              "    <tr>\n",
              "      <th>6</th>\n",
              "      <td>HHS</td>\n",
              "      <td>9.226000e+09</td>\n",
              "      <td>1976</td>\n",
              "      <td>1.790000e+12</td>\n",
              "    </tr>\n",
              "    <tr>\n",
              "      <th>7</th>\n",
              "      <td>Interior</td>\n",
              "      <td>1.152000e+09</td>\n",
              "      <td>1976</td>\n",
              "      <td>1.790000e+12</td>\n",
              "    </tr>\n",
              "    <tr>\n",
              "      <th>8</th>\n",
              "      <td>NASA</td>\n",
              "      <td>1.251300e+10</td>\n",
              "      <td>1976</td>\n",
              "      <td>1.790000e+12</td>\n",
              "    </tr>\n",
              "    <tr>\n",
              "      <th>9</th>\n",
              "      <td>NIH</td>\n",
              "      <td>8.025000e+09</td>\n",
              "      <td>1976</td>\n",
              "      <td>1.790000e+12</td>\n",
              "    </tr>\n",
              "  </tbody>\n",
              "</table>\n",
              "</div>\n",
              "    <div class=\"colab-df-buttons\">\n",
              "\n",
              "  <div class=\"colab-df-container\">\n",
              "    <button class=\"colab-df-convert\" onclick=\"convertToInteractive('df-3c22e926-6d94-437d-88ee-d77c04afbe3a')\"\n",
              "            title=\"Convert this dataframe to an interactive table.\"\n",
              "            style=\"display:none;\">\n",
              "\n",
              "  <svg xmlns=\"http://www.w3.org/2000/svg\" height=\"24px\" viewBox=\"0 -960 960 960\">\n",
              "    <path d=\"M120-120v-720h720v720H120Zm60-500h600v-160H180v160Zm220 220h160v-160H400v160Zm0 220h160v-160H400v160ZM180-400h160v-160H180v160Zm440 0h160v-160H620v160ZM180-180h160v-160H180v160Zm440 0h160v-160H620v160Z\"/>\n",
              "  </svg>\n",
              "    </button>\n",
              "\n",
              "  <style>\n",
              "    .colab-df-container {\n",
              "      display:flex;\n",
              "      gap: 12px;\n",
              "    }\n",
              "\n",
              "    .colab-df-convert {\n",
              "      background-color: #E8F0FE;\n",
              "      border: none;\n",
              "      border-radius: 50%;\n",
              "      cursor: pointer;\n",
              "      display: none;\n",
              "      fill: #1967D2;\n",
              "      height: 32px;\n",
              "      padding: 0 0 0 0;\n",
              "      width: 32px;\n",
              "    }\n",
              "\n",
              "    .colab-df-convert:hover {\n",
              "      background-color: #E2EBFA;\n",
              "      box-shadow: 0px 1px 2px rgba(60, 64, 67, 0.3), 0px 1px 3px 1px rgba(60, 64, 67, 0.15);\n",
              "      fill: #174EA6;\n",
              "    }\n",
              "\n",
              "    .colab-df-buttons div {\n",
              "      margin-bottom: 4px;\n",
              "    }\n",
              "\n",
              "    [theme=dark] .colab-df-convert {\n",
              "      background-color: #3B4455;\n",
              "      fill: #D2E3FC;\n",
              "    }\n",
              "\n",
              "    [theme=dark] .colab-df-convert:hover {\n",
              "      background-color: #434B5C;\n",
              "      box-shadow: 0px 1px 3px 1px rgba(0, 0, 0, 0.15);\n",
              "      filter: drop-shadow(0px 1px 2px rgba(0, 0, 0, 0.3));\n",
              "      fill: #FFFFFF;\n",
              "    }\n",
              "  </style>\n",
              "\n",
              "    <script>\n",
              "      const buttonEl =\n",
              "        document.querySelector('#df-3c22e926-6d94-437d-88ee-d77c04afbe3a button.colab-df-convert');\n",
              "      buttonEl.style.display =\n",
              "        google.colab.kernel.accessAllowed ? 'block' : 'none';\n",
              "\n",
              "      async function convertToInteractive(key) {\n",
              "        const element = document.querySelector('#df-3c22e926-6d94-437d-88ee-d77c04afbe3a');\n",
              "        const dataTable =\n",
              "          await google.colab.kernel.invokeFunction('convertToInteractive',\n",
              "                                                    [key], {});\n",
              "        if (!dataTable) return;\n",
              "\n",
              "        const docLinkHtml = 'Like what you see? Visit the ' +\n",
              "          '<a target=\"_blank\" href=https://colab.research.google.com/notebooks/data_table.ipynb>data table notebook</a>'\n",
              "          + ' to learn more about interactive tables.';\n",
              "        element.innerHTML = '';\n",
              "        dataTable['output_type'] = 'display_data';\n",
              "        await google.colab.output.renderOutput(dataTable, element);\n",
              "        const docLink = document.createElement('div');\n",
              "        docLink.innerHTML = docLinkHtml;\n",
              "        element.appendChild(docLink);\n",
              "      }\n",
              "    </script>\n",
              "  </div>\n",
              "\n",
              "\n",
              "<div id=\"df-89812a88-844a-4e64-b827-d38cdf8163e4\">\n",
              "  <button class=\"colab-df-quickchart\" onclick=\"quickchart('df-89812a88-844a-4e64-b827-d38cdf8163e4')\"\n",
              "            title=\"Suggest charts\"\n",
              "            style=\"display:none;\">\n",
              "\n",
              "<svg xmlns=\"http://www.w3.org/2000/svg\" height=\"24px\"viewBox=\"0 0 24 24\"\n",
              "     width=\"24px\">\n",
              "    <g>\n",
              "        <path d=\"M19 3H5c-1.1 0-2 .9-2 2v14c0 1.1.9 2 2 2h14c1.1 0 2-.9 2-2V5c0-1.1-.9-2-2-2zM9 17H7v-7h2v7zm4 0h-2V7h2v10zm4 0h-2v-4h2v4z\"/>\n",
              "    </g>\n",
              "</svg>\n",
              "  </button>\n",
              "\n",
              "<style>\n",
              "  .colab-df-quickchart {\n",
              "      --bg-color: #E8F0FE;\n",
              "      --fill-color: #1967D2;\n",
              "      --hover-bg-color: #E2EBFA;\n",
              "      --hover-fill-color: #174EA6;\n",
              "      --disabled-fill-color: #AAA;\n",
              "      --disabled-bg-color: #DDD;\n",
              "  }\n",
              "\n",
              "  [theme=dark] .colab-df-quickchart {\n",
              "      --bg-color: #3B4455;\n",
              "      --fill-color: #D2E3FC;\n",
              "      --hover-bg-color: #434B5C;\n",
              "      --hover-fill-color: #FFFFFF;\n",
              "      --disabled-bg-color: #3B4455;\n",
              "      --disabled-fill-color: #666;\n",
              "  }\n",
              "\n",
              "  .colab-df-quickchart {\n",
              "    background-color: var(--bg-color);\n",
              "    border: none;\n",
              "    border-radius: 50%;\n",
              "    cursor: pointer;\n",
              "    display: none;\n",
              "    fill: var(--fill-color);\n",
              "    height: 32px;\n",
              "    padding: 0;\n",
              "    width: 32px;\n",
              "  }\n",
              "\n",
              "  .colab-df-quickchart:hover {\n",
              "    background-color: var(--hover-bg-color);\n",
              "    box-shadow: 0 1px 2px rgba(60, 64, 67, 0.3), 0 1px 3px 1px rgba(60, 64, 67, 0.15);\n",
              "    fill: var(--button-hover-fill-color);\n",
              "  }\n",
              "\n",
              "  .colab-df-quickchart-complete:disabled,\n",
              "  .colab-df-quickchart-complete:disabled:hover {\n",
              "    background-color: var(--disabled-bg-color);\n",
              "    fill: var(--disabled-fill-color);\n",
              "    box-shadow: none;\n",
              "  }\n",
              "\n",
              "  .colab-df-spinner {\n",
              "    border: 2px solid var(--fill-color);\n",
              "    border-color: transparent;\n",
              "    border-bottom-color: var(--fill-color);\n",
              "    animation:\n",
              "      spin 1s steps(1) infinite;\n",
              "  }\n",
              "\n",
              "  @keyframes spin {\n",
              "    0% {\n",
              "      border-color: transparent;\n",
              "      border-bottom-color: var(--fill-color);\n",
              "      border-left-color: var(--fill-color);\n",
              "    }\n",
              "    20% {\n",
              "      border-color: transparent;\n",
              "      border-left-color: var(--fill-color);\n",
              "      border-top-color: var(--fill-color);\n",
              "    }\n",
              "    30% {\n",
              "      border-color: transparent;\n",
              "      border-left-color: var(--fill-color);\n",
              "      border-top-color: var(--fill-color);\n",
              "      border-right-color: var(--fill-color);\n",
              "    }\n",
              "    40% {\n",
              "      border-color: transparent;\n",
              "      border-right-color: var(--fill-color);\n",
              "      border-top-color: var(--fill-color);\n",
              "    }\n",
              "    60% {\n",
              "      border-color: transparent;\n",
              "      border-right-color: var(--fill-color);\n",
              "    }\n",
              "    80% {\n",
              "      border-color: transparent;\n",
              "      border-right-color: var(--fill-color);\n",
              "      border-bottom-color: var(--fill-color);\n",
              "    }\n",
              "    90% {\n",
              "      border-color: transparent;\n",
              "      border-bottom-color: var(--fill-color);\n",
              "    }\n",
              "  }\n",
              "</style>\n",
              "\n",
              "  <script>\n",
              "    async function quickchart(key) {\n",
              "      const quickchartButtonEl =\n",
              "        document.querySelector('#' + key + ' button');\n",
              "      quickchartButtonEl.disabled = true;  // To prevent multiple clicks.\n",
              "      quickchartButtonEl.classList.add('colab-df-spinner');\n",
              "      try {\n",
              "        const charts = await google.colab.kernel.invokeFunction(\n",
              "            'suggestCharts', [key], {});\n",
              "      } catch (error) {\n",
              "        console.error('Error during call to suggestCharts:', error);\n",
              "      }\n",
              "      quickchartButtonEl.classList.remove('colab-df-spinner');\n",
              "      quickchartButtonEl.classList.add('colab-df-quickchart-complete');\n",
              "    }\n",
              "    (() => {\n",
              "      let quickchartButtonEl =\n",
              "        document.querySelector('#df-89812a88-844a-4e64-b827-d38cdf8163e4 button');\n",
              "      quickchartButtonEl.style.display =\n",
              "        google.colab.kernel.accessAllowed ? 'block' : 'none';\n",
              "    })();\n",
              "  </script>\n",
              "</div>\n",
              "\n",
              "    </div>\n",
              "  </div>\n"
            ],
            "application/vnd.google.colaboratory.intrinsic+json": {
              "type": "dataframe",
              "variable_name": "df_federal_melted",
              "summary": "{\n  \"name\": \"df_federal_melted\",\n  \"rows\": 588,\n  \"fields\": [\n    {\n      \"column\": \"department\",\n      \"properties\": {\n        \"dtype\": \"category\",\n        \"num_unique_values\": 14,\n        \"samples\": [\n          \"NIH\",\n          \"Other\",\n          \"DHS\"\n        ],\n        \"semantic_type\": \"\",\n        \"description\": \"\"\n      }\n    },\n    {\n      \"column\": \"Budget\",\n      \"properties\": {\n        \"dtype\": \"number\",\n        \"std\": 18132498873.254063,\n        \"min\": 313000000.0,\n        \"max\": 94325000000.0,\n        \"num_unique_values\": 535,\n        \"samples\": [\n          64416000000.0,\n          746000000.0,\n          764000000.0\n        ],\n        \"semantic_type\": \"\",\n        \"description\": \"\"\n      }\n    },\n    {\n      \"column\": \"Year\",\n      \"properties\": {\n        \"dtype\": \"object\",\n        \"num_unique_values\": 42,\n        \"samples\": [\n          \"2001\",\n          \"1989\",\n          \"1984\"\n        ],\n        \"semantic_type\": \"\",\n        \"description\": \"\"\n      }\n    },\n    {\n      \"column\": \"GDP\",\n      \"properties\": {\n        \"dtype\": \"number\",\n        \"std\": 5217163355189.324,\n        \"min\": 1790000000000.0,\n        \"max\": 19177000000000.0,\n        \"num_unique_values\": 42,\n        \"samples\": [\n          10565000000000.0,\n          5570000000000.0,\n          3953000000000.0\n        ],\n        \"semantic_type\": \"\",\n        \"description\": \"\"\n      }\n    }\n  ]\n}"
            }
          },
          "metadata": {},
          "execution_count": 91
        }
      ]
    },
    {
      "cell_type": "markdown",
      "source": [
        "### Saving as CSV"
      ],
      "metadata": {
        "id": "SQ-YW1zNikcs"
      }
    },
    {
      "cell_type": "code",
      "source": [
        "df_federal_melted.to_csv(\"Clean_Data.csv\", index=False)  # Saving and creating csv file for this cleaned dataframe.\n"
      ],
      "metadata": {
        "id": "Fe_Yas32dR7d"
      },
      "execution_count": 92,
      "outputs": []
    },
    {
      "cell_type": "markdown",
      "source": [
        "## Visualizations"
      ],
      "metadata": {
        "id": "FzokAhvOM29Q"
      }
    },
    {
      "cell_type": "markdown",
      "source": [
        "Visualizations help us to see patterns in our dataset! They help us to identify errors and unique findings."
      ],
      "metadata": {
        "id": "GSlUBiSbt6Ke"
      }
    },
    {
      "cell_type": "markdown",
      "source": [
        "###Line Plot"
      ],
      "metadata": {
        "id": "gC7ejbzDuVQs"
      }
    },
    {
      "cell_type": "code",
      "source": [
        "import seaborn as sns  # Import Seaborn library\n",
        "plt.figure(figsize=(12, 6)),sns.lineplot(data=df_federal_melted, x=\"Year\", y=\"Budget\", hue=\"department\"),plt.xticks(rotation=45), plt.title(\"Budget Trends by Department\")  #Budget Trends by Department"
      ],
      "metadata": {
        "colab": {
          "base_uri": "https://localhost:8080/",
          "height": 1906
        },
        "id": "rDF4LgpdM5y0",
        "outputId": "f2a17229-69a9-4191-ba4f-840111569d93"
      },
      "execution_count": 122,
      "outputs": [
        {
          "output_type": "execute_result",
          "data": {
            "text/plain": [
              "(<Figure size 1200x600 with 1 Axes>,\n",
              " <Axes: title={'center': 'Budget Trends by Department'}, xlabel='Year', ylabel='Budget'>,\n",
              " ([0,\n",
              "   1,\n",
              "   2,\n",
              "   3,\n",
              "   4,\n",
              "   5,\n",
              "   6,\n",
              "   7,\n",
              "   8,\n",
              "   9,\n",
              "   10,\n",
              "   11,\n",
              "   12,\n",
              "   13,\n",
              "   14,\n",
              "   15,\n",
              "   16,\n",
              "   17,\n",
              "   18,\n",
              "   19,\n",
              "   20,\n",
              "   21,\n",
              "   22,\n",
              "   23,\n",
              "   24,\n",
              "   25,\n",
              "   26,\n",
              "   27,\n",
              "   28,\n",
              "   29,\n",
              "   30,\n",
              "   31,\n",
              "   32,\n",
              "   33,\n",
              "   34,\n",
              "   35,\n",
              "   36,\n",
              "   37,\n",
              "   38,\n",
              "   39,\n",
              "   40,\n",
              "   41],\n",
              "  [Text(0, 0, '1976'),\n",
              "   Text(1, 0, '1977'),\n",
              "   Text(2, 0, '1978'),\n",
              "   Text(3, 0, '1979'),\n",
              "   Text(4, 0, '1980'),\n",
              "   Text(5, 0, '1981'),\n",
              "   Text(6, 0, '1982'),\n",
              "   Text(7, 0, '1983'),\n",
              "   Text(8, 0, '1984'),\n",
              "   Text(9, 0, '1985'),\n",
              "   Text(10, 0, '1986'),\n",
              "   Text(11, 0, '1987'),\n",
              "   Text(12, 0, '1988'),\n",
              "   Text(13, 0, '1989'),\n",
              "   Text(14, 0, '1990'),\n",
              "   Text(15, 0, '1991'),\n",
              "   Text(16, 0, '1992'),\n",
              "   Text(17, 0, '1993'),\n",
              "   Text(18, 0, '1994'),\n",
              "   Text(19, 0, '1995'),\n",
              "   Text(20, 0, '1996'),\n",
              "   Text(21, 0, '1997'),\n",
              "   Text(22, 0, '1998'),\n",
              "   Text(23, 0, '1999'),\n",
              "   Text(24, 0, '2000'),\n",
              "   Text(25, 0, '2001'),\n",
              "   Text(26, 0, '2002'),\n",
              "   Text(27, 0, '2003'),\n",
              "   Text(28, 0, '2004'),\n",
              "   Text(29, 0, '2005'),\n",
              "   Text(30, 0, '2006'),\n",
              "   Text(31, 0, '2007'),\n",
              "   Text(32, 0, '2008'),\n",
              "   Text(33, 0, '2009'),\n",
              "   Text(34, 0, '2010'),\n",
              "   Text(35, 0, '2011'),\n",
              "   Text(36, 0, '2012'),\n",
              "   Text(37, 0, '2013'),\n",
              "   Text(38, 0, '2014'),\n",
              "   Text(39, 0, '2015'),\n",
              "   Text(40, 0, '2016'),\n",
              "   Text(41, 0, '2017')]),\n",
              " Text(0.5, 1.0, 'Budget Trends by Department'))"
            ]
          },
          "metadata": {},
          "execution_count": 122
        },
        {
          "output_type": "display_data",
          "data": {
            "text/plain": [
              "<Figure size 1200x600 with 1 Axes>"
            ],
            "image/png": "[encoded data removed]"
          },
          "metadata": {}
        }
      ]
    },
    {
      "cell_type": "markdown",
      "source": [
        "### Barplot"
      ],
      "metadata": {
        "id": "hdtFoXURuaDP"
      }
    },
    {
      "cell_type": "code",
      "source": [
        "plt.figure(figsize=(12, 6)),sns.barplot(data=df_federal_melted, x=\"Year\",y=\"Budget\", estimator = sum, errorbar=None),plt.xticks(rotation=45),plt.title(\"Total Budget Per Year\")   # Barplot that shows year to year budget."
      ],
      "metadata": {
        "colab": {
          "base_uri": "https://localhost:8080/",
          "height": 1887
        },
        "id": "IFMcY8TOnCeB",
        "outputId": "8b584852-a9c3-4cfd-af33-de2446de9158"
      },
      "execution_count": 123,
      "outputs": [
        {
          "output_type": "execute_result",
          "data": {
            "text/plain": [
              "(<Figure size 1200x600 with 1 Axes>,\n",
              " <Axes: title={'center': 'Total Budget Per Year'}, xlabel='Year', ylabel='Budget'>,\n",
              " ([0,\n",
              "   1,\n",
              "   2,\n",
              "   3,\n",
              "   4,\n",
              "   5,\n",
              "   6,\n",
              "   7,\n",
              "   8,\n",
              "   9,\n",
              "   10,\n",
              "   11,\n",
              "   12,\n",
              "   13,\n",
              "   14,\n",
              "   15,\n",
              "   16,\n",
              "   17,\n",
              "   18,\n",
              "   19,\n",
              "   20,\n",
              "   21,\n",
              "   22,\n",
              "   23,\n",
              "   24,\n",
              "   25,\n",
              "   26,\n",
              "   27,\n",
              "   28,\n",
              "   29,\n",
              "   30,\n",
              "   31,\n",
              "   32,\n",
              "   33,\n",
              "   34,\n",
              "   35,\n",
              "   36,\n",
              "   37,\n",
              "   38,\n",
              "   39,\n",
              "   40,\n",
              "   41],\n",
              "  [Text(0, 0, '1976'),\n",
              "   Text(1, 0, '1977'),\n",
              "   Text(2, 0, '1978'),\n",
              "   Text(3, 0, '1979'),\n",
              "   Text(4, 0, '1980'),\n",
              "   Text(5, 0, '1981'),\n",
              "   Text(6, 0, '1982'),\n",
              "   Text(7, 0, '1983'),\n",
              "   Text(8, 0, '1984'),\n",
              "   Text(9, 0, '1985'),\n",
              "   Text(10, 0, '1986'),\n",
              "   Text(11, 0, '1987'),\n",
              "   Text(12, 0, '1988'),\n",
              "   Text(13, 0, '1989'),\n",
              "   Text(14, 0, '1990'),\n",
              "   Text(15, 0, '1991'),\n",
              "   Text(16, 0, '1992'),\n",
              "   Text(17, 0, '1993'),\n",
              "   Text(18, 0, '1994'),\n",
              "   Text(19, 0, '1995'),\n",
              "   Text(20, 0, '1996'),\n",
              "   Text(21, 0, '1997'),\n",
              "   Text(22, 0, '1998'),\n",
              "   Text(23, 0, '1999'),\n",
              "   Text(24, 0, '2000'),\n",
              "   Text(25, 0, '2001'),\n",
              "   Text(26, 0, '2002'),\n",
              "   Text(27, 0, '2003'),\n",
              "   Text(28, 0, '2004'),\n",
              "   Text(29, 0, '2005'),\n",
              "   Text(30, 0, '2006'),\n",
              "   Text(31, 0, '2007'),\n",
              "   Text(32, 0, '2008'),\n",
              "   Text(33, 0, '2009'),\n",
              "   Text(34, 0, '2010'),\n",
              "   Text(35, 0, '2011'),\n",
              "   Text(36, 0, '2012'),\n",
              "   Text(37, 0, '2013'),\n",
              "   Text(38, 0, '2014'),\n",
              "   Text(39, 0, '2015'),\n",
              "   Text(40, 0, '2016'),\n",
              "   Text(41, 0, '2017')]),\n",
              " Text(0.5, 1.0, 'Total Budget Per Year'))"
            ]
          },
          "metadata": {},
          "execution_count": 123
        },
        {
          "output_type": "display_data",
          "data": {
            "text/plain": [
              "<Figure size 1200x600 with 1 Axes>"
            ],
            "image/png": "[encoded data removed]"
          },
          "metadata": {}
        }
      ]
    },
    {
      "cell_type": "markdown",
      "source": [
        "## Pivot-Table"
      ],
      "metadata": {
        "id": "-AXSe7PkNDgX"
      }
    },
    {
      "cell_type": "markdown",
      "source": [
        "### Budget Pivot-Table"
      ],
      "metadata": {
        "id": "I6qiXYOKQAMi"
      }
    },
    {
      "cell_type": "markdown",
      "source": [
        "Budget Pivot Table. Aggregates \"Budget\" using the mean, with \"department\" as the index and \"Year\" as the columns. We can see what the budget for each department was for years 1976 to 2017."
      ],
      "metadata": {
        "id": "4QYGS1X1PWpx"
      }
    },
    {
      "cell_type": "code",
      "source": [
        "pivot_table_Budget = pd.pivot_table(df_federal_melted, values = \"Budget\",\n",
        "                                index = \"department\", columns = \"Year\",\n",
        "                                aggfunc= \"mean\")\n",
        "\n",
        "print(pivot_table_Budget)"
      ],
      "metadata": {
        "colab": {
          "base_uri": "https://localhost:8080/",
          "height": 0
        },
        "id": "nIc-pL3GNGg3",
        "outputId": "b2522db8-dd65-4402-8637-92cf9d888642"
      },
      "execution_count": 85,
      "outputs": [
        {
          "output_type": "stream",
          "name": "stdout",
          "text": [
            "Year                1976          1977          1978          1979  \\\n",
            "department                                                           \n",
            "DHS                  NaN           NaN           NaN           NaN   \n",
            "DOC         8.190000e+08  8.370000e+08  8.710000e+08  9.520000e+08   \n",
            "DOD         3.569600e+10  3.796700e+10  3.702200e+10  3.717400e+10   \n",
            "DOE         1.088200e+10  1.374100e+10  1.566300e+10  1.561200e+10   \n",
            "DOT         1.142000e+09  1.095000e+09  1.156000e+09  1.004000e+09   \n",
            "EPA         9.680000e+08  9.660000e+08  1.175000e+09  1.102000e+09   \n",
            "HHS         9.226000e+09  9.507000e+09  1.053300e+10  1.012700e+10   \n",
            "Interior    1.152000e+09  1.082000e+09  1.125000e+09  1.176000e+09   \n",
            "NASA        1.251300e+10  1.255300e+10  1.251600e+10  1.307900e+10   \n",
            "NIH         8.025000e+09  8.214000e+09  8.802000e+09  9.243000e+09   \n",
            "NSF         2.372000e+09  2.395000e+09  2.446000e+09  2.404000e+09   \n",
            "Other       1.191000e+09  1.280000e+09  1.237000e+09  2.321000e+09   \n",
            "USDA        1.837000e+09  1.796000e+09  1.962000e+09  2.054000e+09   \n",
            "VA          4.040000e+08  3.740000e+08  3.560000e+08  3.530000e+08   \n",
            "\n",
            "Year                1980          1981          1982          1983  \\\n",
            "department                                                           \n",
            "DHS                  NaN           NaN           NaN           NaN   \n",
            "DOC         9.450000e+08  8.290000e+08  6.930000e+08  7.000000e+08   \n",
            "DOD         3.700500e+10  4.173700e+10  4.689300e+10  5.100800e+10   \n",
            "DOE         1.522600e+10  1.479800e+10  1.216000e+10  1.112900e+10   \n",
            "DOT         1.048000e+09  9.780000e+08  7.020000e+08  8.000000e+08   \n",
            "EPA         9.030000e+08  9.010000e+08  6.410000e+08  5.010000e+08   \n",
            "HHS         1.004500e+10  9.644000e+09  8.860000e+09  9.418000e+09   \n",
            "Interior    1.082000e+09  9.900000e+08  8.660000e+08  8.350000e+08   \n",
            "NASA        1.383700e+10  1.327600e+10  1.032200e+10  5.893000e+09   \n",
            "NIH         9.093000e+09  8.580000e+09  8.314000e+09  8.733000e+09   \n",
            "NSF         2.407000e+09  2.300000e+09  2.191000e+09  2.282000e+09   \n",
            "Other       2.468000e+09  1.925000e+09  1.626000e+09  1.457000e+09   \n",
            "USDA        1.887000e+09  1.964000e+09  1.867000e+09  1.907000e+09   \n",
            "VA          3.590000e+08  3.820000e+08  3.130000e+08  3.470000e+08   \n",
            "\n",
            "Year                1984          1985  ...          2008          2009  \\\n",
            "department                              ...                               \n",
            "DHS                  NaN           NaN  ...  1.155000e+09  1.258000e+09   \n",
            "DOC         7.550000e+08  7.890000e+08  ...  1.379000e+09  1.594000e+09   \n",
            "DOD         5.813900e+10  6.441600e+10  ...  9.424700e+10  9.352700e+10   \n",
            "DOE         1.173100e+10  1.204300e+10  ...  1.134300e+10  1.182300e+10   \n",
            "DOT         1.018000e+09  8.850000e+08  ...  1.016000e+09  1.062000e+09   \n",
            "EPA         5.180000e+08  6.150000e+08  ...  6.360000e+08  6.460000e+08   \n",
            "HHS         1.014500e+10  1.108300e+10  ...  3.396400e+10  3.564900e+10   \n",
            "Interior    7.570000e+08  7.830000e+08  ...  7.940000e+08  8.050000e+08   \n",
            "NASA        6.231000e+09  7.174000e+09  ...  1.298500e+10  1.008700e+10   \n",
            "NIH         9.620000e+09  1.060600e+10  ...  3.313000e+10  3.415000e+10   \n",
            "NSF         2.597000e+09  2.859000e+09  ...  5.233000e+09  5.472000e+09   \n",
            "Other       1.418000e+09  1.116000e+09  ...  1.238000e+09  1.323000e+09   \n",
            "USDA        2.032000e+09  2.018000e+09  ...  2.708000e+09  2.797000e+09   \n",
            "VA          4.100000e+08  4.310000e+08  ...  1.029000e+09  1.082000e+09   \n",
            "\n",
            "Year                2010          2011          2012          2013  \\\n",
            "department                                                           \n",
            "DHS         1.009000e+09  8.480000e+08  5.270000e+08  7.370000e+08   \n",
            "DOC         1.521000e+09  1.357000e+09  1.373000e+09  1.397000e+09   \n",
            "DOD         9.432500e+10  8.822000e+10  8.154300e+10  7.058300e+10   \n",
            "DOE         1.232900e+10  1.190200e+10  1.183900e+10  1.152800e+10   \n",
            "DOT         1.221000e+09  1.064000e+09  1.007000e+09  8.810000e+08   \n",
            "EPA         6.790000e+08  6.490000e+08  6.220000e+08  5.700000e+08   \n",
            "HHS         3.613400e+10  3.477300e+10  3.436000e+10  3.209500e+10   \n",
            "Interior    8.830000e+08  8.440000e+08  8.980000e+08  8.460000e+08   \n",
            "NASA        1.053800e+10  1.014700e+10  1.239100e+10  1.184500e+10   \n",
            "NIH         3.434800e+10  3.326500e+10  3.286500e+10  3.052200e+10   \n",
            "NSF         6.135000e+09  6.127000e+09  6.248000e+09  5.739000e+09   \n",
            "Other       1.287000e+09  1.129000e+09  1.448000e+09  1.846000e+09   \n",
            "USDA        2.971000e+09  2.637000e+09  2.553000e+09  2.279000e+09   \n",
            "VA          1.176000e+09  1.294000e+09  1.270000e+09  1.253000e+09   \n",
            "\n",
            "Year                2014          2015          2016          2017  \n",
            "department                                                          \n",
            "DHS         1.092000e+09  9.600000e+08  6.020000e+08  7.350000e+08  \n",
            "DOC         1.641000e+09  1.596000e+09  1.730000e+09  1.824000e+09  \n",
            "DOD         7.034100e+10  6.952200e+10  7.521300e+10  5.186200e+10  \n",
            "DOE         1.268600e+10  1.503300e+10  1.550400e+10  1.503200e+10  \n",
            "DOT         8.430000e+08  9.260000e+08  9.100000e+08  9.360000e+08  \n",
            "EPA         5.690000e+08  5.440000e+08  5.300000e+08  5.060000e+08  \n",
            "HHS         3.243800e+10  3.153700e+10  3.312100e+10  3.475800e+10  \n",
            "Interior    8.890000e+08  9.030000e+08  1.005000e+09  9.550000e+08  \n",
            "NASA        1.243200e+10  1.192700e+10  1.371300e+10  1.236100e+10  \n",
            "NIH         3.093800e+10  3.004600e+10  3.167500e+10  3.305200e+10  \n",
            "NSF         6.135000e+09  6.260000e+09  6.222000e+09  6.040000e+09  \n",
            "Other       1.697000e+09  1.558000e+09  1.653000e+09  1.553000e+09  \n",
            "USDA        2.517000e+09  2.565000e+09  2.745000e+09  2.625000e+09  \n",
            "VA          1.165000e+09  1.231000e+09  1.262000e+09  1.367000e+09  \n",
            "\n",
            "[14 rows x 42 columns]\n"
          ]
        }
      ]
    },
    {
      "cell_type": "markdown",
      "source": [
        "###"
      ],
      "metadata": {
        "id": "pTeMiXWfP1Wf"
      }
    },
    {
      "cell_type": "markdown",
      "source": [
        "### GDP Pivot-Table"
      ],
      "metadata": {
        "id": "JmJw7HXWQCPQ"
      }
    },
    {
      "cell_type": "markdown",
      "source": [
        "GDP Pivot Table. Aggregates \"GDP\" using the mean, with \"department\" as the index and \"Year\" as the columns. We can see what the budget for each department was for years 1976 to 2017."
      ],
      "metadata": {
        "id": "jKUTYJN1QHIU"
      }
    },
    {
      "cell_type": "code",
      "source": [
        "pivot_table_GDP = pd.pivot_table(df_federal_melted, values = \"GDP\",\n",
        "                                index = \"department\", columns = \"Year\",\n",
        "                                aggfunc= \"mean\")\n",
        "\n",
        "print(pivot_table_GDP)"
      ],
      "metadata": {
        "colab": {
          "base_uri": "https://localhost:8080/",
          "height": 0
        },
        "id": "FAwipjmkPGeW",
        "outputId": "a7bfb7dd-2c2a-4385-baa6-6dd1e18c7dc9"
      },
      "execution_count": 84,
      "outputs": [
        {
          "output_type": "stream",
          "name": "stdout",
          "text": [
            "Year                1976          1977          1978          1979  \\\n",
            "department                                                           \n",
            "DHS         1.790000e+12  2.028000e+12  2.278000e+12  2.570000e+12   \n",
            "DOC         1.790000e+12  2.028000e+12  2.278000e+12  2.570000e+12   \n",
            "DOD         1.790000e+12  2.028000e+12  2.278000e+12  2.570000e+12   \n",
            "DOE         1.790000e+12  2.028000e+12  2.278000e+12  2.570000e+12   \n",
            "DOT         1.790000e+12  2.028000e+12  2.278000e+12  2.570000e+12   \n",
            "EPA         1.790000e+12  2.028000e+12  2.278000e+12  2.570000e+12   \n",
            "HHS         1.790000e+12  2.028000e+12  2.278000e+12  2.570000e+12   \n",
            "Interior    1.790000e+12  2.028000e+12  2.278000e+12  2.570000e+12   \n",
            "NASA        1.790000e+12  2.028000e+12  2.278000e+12  2.570000e+12   \n",
            "NIH         1.790000e+12  2.028000e+12  2.278000e+12  2.570000e+12   \n",
            "NSF         1.790000e+12  2.028000e+12  2.278000e+12  2.570000e+12   \n",
            "Other       1.790000e+12  2.028000e+12  2.278000e+12  2.570000e+12   \n",
            "USDA        1.790000e+12  2.028000e+12  2.278000e+12  2.570000e+12   \n",
            "VA          1.790000e+12  2.028000e+12  2.278000e+12  2.570000e+12   \n",
            "\n",
            "Year                1980          1981          1982          1983  \\\n",
            "department                                                           \n",
            "DHS         2.797000e+12  3.138000e+12  3.314000e+12  3.541000e+12   \n",
            "DOC         2.797000e+12  3.138000e+12  3.314000e+12  3.541000e+12   \n",
            "DOD         2.797000e+12  3.138000e+12  3.314000e+12  3.541000e+12   \n",
            "DOE         2.797000e+12  3.138000e+12  3.314000e+12  3.541000e+12   \n",
            "DOT         2.797000e+12  3.138000e+12  3.314000e+12  3.541000e+12   \n",
            "EPA         2.797000e+12  3.138000e+12  3.314000e+12  3.541000e+12   \n",
            "HHS         2.797000e+12  3.138000e+12  3.314000e+12  3.541000e+12   \n",
            "Interior    2.797000e+12  3.138000e+12  3.314000e+12  3.541000e+12   \n",
            "NASA        2.797000e+12  3.138000e+12  3.314000e+12  3.541000e+12   \n",
            "NIH         2.797000e+12  3.138000e+12  3.314000e+12  3.541000e+12   \n",
            "NSF         2.797000e+12  3.138000e+12  3.314000e+12  3.541000e+12   \n",
            "Other       2.797000e+12  3.138000e+12  3.314000e+12  3.541000e+12   \n",
            "USDA        2.797000e+12  3.138000e+12  3.314000e+12  3.541000e+12   \n",
            "VA          2.797000e+12  3.138000e+12  3.314000e+12  3.541000e+12   \n",
            "\n",
            "Year                1984          1985  ...          2008          2009  \\\n",
            "department                              ...                               \n",
            "DHS         3.953000e+12  4.270000e+12  ...  1.475200e+13  1.441500e+13   \n",
            "DOC         3.953000e+12  4.270000e+12  ...  1.475200e+13  1.441500e+13   \n",
            "DOD         3.953000e+12  4.270000e+12  ...  1.475200e+13  1.441500e+13   \n",
            "DOE         3.953000e+12  4.270000e+12  ...  1.475200e+13  1.441500e+13   \n",
            "DOT         3.953000e+12  4.270000e+12  ...  1.475200e+13  1.441500e+13   \n",
            "EPA         3.953000e+12  4.270000e+12  ...  1.475200e+13  1.441500e+13   \n",
            "HHS         3.953000e+12  4.270000e+12  ...  1.475200e+13  1.441500e+13   \n",
            "Interior    3.953000e+12  4.270000e+12  ...  1.475200e+13  1.441500e+13   \n",
            "NASA        3.953000e+12  4.270000e+12  ...  1.475200e+13  1.441500e+13   \n",
            "NIH         3.953000e+12  4.270000e+12  ...  1.475200e+13  1.441500e+13   \n",
            "NSF         3.953000e+12  4.270000e+12  ...  1.475200e+13  1.441500e+13   \n",
            "Other       3.953000e+12  4.270000e+12  ...  1.475200e+13  1.441500e+13   \n",
            "USDA        3.953000e+12  4.270000e+12  ...  1.475200e+13  1.441500e+13   \n",
            "VA          3.953000e+12  4.270000e+12  ...  1.475200e+13  1.441500e+13   \n",
            "\n",
            "Year                2010          2011          2012          2013  \\\n",
            "department                                                           \n",
            "DHS         1.479900e+13  1.537900e+13  1.602700e+13  1.651600e+13   \n",
            "DOC         1.479900e+13  1.537900e+13  1.602700e+13  1.651600e+13   \n",
            "DOD         1.479900e+13  1.537900e+13  1.602700e+13  1.651600e+13   \n",
            "DOE         1.479900e+13  1.537900e+13  1.602700e+13  1.651600e+13   \n",
            "DOT         1.479900e+13  1.537900e+13  1.602700e+13  1.651600e+13   \n",
            "EPA         1.479900e+13  1.537900e+13  1.602700e+13  1.651600e+13   \n",
            "HHS         1.479900e+13  1.537900e+13  1.602700e+13  1.651600e+13   \n",
            "Interior    1.479900e+13  1.537900e+13  1.602700e+13  1.651600e+13   \n",
            "NASA        1.479900e+13  1.537900e+13  1.602700e+13  1.651600e+13   \n",
            "NIH         1.479900e+13  1.537900e+13  1.602700e+13  1.651600e+13   \n",
            "NSF         1.479900e+13  1.537900e+13  1.602700e+13  1.651600e+13   \n",
            "Other       1.479900e+13  1.537900e+13  1.602700e+13  1.651600e+13   \n",
            "USDA        1.479900e+13  1.537900e+13  1.602700e+13  1.651600e+13   \n",
            "VA          1.479900e+13  1.537900e+13  1.602700e+13  1.651600e+13   \n",
            "\n",
            "Year                2014          2015          2016          2017  \n",
            "department                                                          \n",
            "DHS         1.724400e+13  1.798300e+13  1.847000e+13  1.917700e+13  \n",
            "DOC         1.724400e+13  1.798300e+13  1.847000e+13  1.917700e+13  \n",
            "DOD         1.724400e+13  1.798300e+13  1.847000e+13  1.917700e+13  \n",
            "DOE         1.724400e+13  1.798300e+13  1.847000e+13  1.917700e+13  \n",
            "DOT         1.724400e+13  1.798300e+13  1.847000e+13  1.917700e+13  \n",
            "EPA         1.724400e+13  1.798300e+13  1.847000e+13  1.917700e+13  \n",
            "HHS         1.724400e+13  1.798300e+13  1.847000e+13  1.917700e+13  \n",
            "Interior    1.724400e+13  1.798300e+13  1.847000e+13  1.917700e+13  \n",
            "NASA        1.724400e+13  1.798300e+13  1.847000e+13  1.917700e+13  \n",
            "NIH         1.724400e+13  1.798300e+13  1.847000e+13  1.917700e+13  \n",
            "NSF         1.724400e+13  1.798300e+13  1.847000e+13  1.917700e+13  \n",
            "Other       1.724400e+13  1.798300e+13  1.847000e+13  1.917700e+13  \n",
            "USDA        1.724400e+13  1.798300e+13  1.847000e+13  1.917700e+13  \n",
            "VA          1.724400e+13  1.798300e+13  1.847000e+13  1.917700e+13  \n",
            "\n",
            "[14 rows x 42 columns]\n"
          ]
        }
      ]
    }
  ]
}